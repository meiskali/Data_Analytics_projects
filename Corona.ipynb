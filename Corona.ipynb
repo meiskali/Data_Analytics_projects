{
 "cells": [
  {
   "cell_type": "markdown",
   "id": "7915428f",
   "metadata": {},
   "source": [
    "<div style=\"color:white;\n",
    "           display:fill;\n",
    "           border-radius:5px;\n",
    "           background-color:cyan;\n",
    "           font-size:200%;\n",
    "           font-family:Serif;\n",
    "           letter-spacing:0.5px\">\n",
    "\n",
    "<p style=\"padding: 10px;\n",
    "          color:black;\n",
    "          font-size:120%;\n",
    "          text-align:center;\">\n",
    "Corona EDA \n",
    "</p>\n",
    "</div>"
   ]
  },
  {
   "cell_type": "markdown",
   "id": "3c892203",
   "metadata": {},
   "source": [
    "### Importing required libraries"
   ]
  },
  {
   "cell_type": "code",
   "execution_count": 16,
   "id": "22113798",
   "metadata": {},
   "outputs": [],
   "source": [
    "import pandas as pd\n",
    "import matplotlib.pyplot as plt\n",
    "import seaborn as sns\n",
    "sns.set_style(\"darkgrid\")"
   ]
  },
  {
   "cell_type": "markdown",
   "id": "22dcf40d",
   "metadata": {},
   "source": [
    "### Loading data"
   ]
  },
  {
   "cell_type": "code",
   "execution_count": 17,
   "id": "0a3fac89",
   "metadata": {},
   "outputs": [],
   "source": [
    "df=pd.read_csv(r\"C:\\Users\\aksh\\Desktop\\Blameet_m_data\\data sets\\latest Covid-19 India Status1.csv\")"
   ]
  },
  {
   "cell_type": "markdown",
   "id": "40e81290",
   "metadata": {},
   "source": [
    "### Previwe of data"
   ]
  },
  {
   "cell_type": "code",
   "execution_count": 18,
   "id": "9da834b9",
   "metadata": {},
   "outputs": [
    {
     "data": {
      "text/html": [
       "<div>\n",
       "<style scoped>\n",
       "    .dataframe tbody tr th:only-of-type {\n",
       "        vertical-align: middle;\n",
       "    }\n",
       "\n",
       "    .dataframe tbody tr th {\n",
       "        vertical-align: top;\n",
       "    }\n",
       "\n",
       "    .dataframe thead th {\n",
       "        text-align: right;\n",
       "    }\n",
       "</style>\n",
       "<table border=\"1\" class=\"dataframe\">\n",
       "  <thead>\n",
       "    <tr style=\"text-align: right;\">\n",
       "      <th></th>\n",
       "      <th>State/UTs</th>\n",
       "      <th>Total Cases</th>\n",
       "      <th>Active</th>\n",
       "      <th>Deaths</th>\n",
       "      <th>Active Ratio (%)</th>\n",
       "      <th>Death Ratio (%)</th>\n",
       "    </tr>\n",
       "  </thead>\n",
       "  <tbody>\n",
       "    <tr>\n",
       "      <th>4</th>\n",
       "      <td>Andhra Pradesh</td>\n",
       "      <td>1911231</td>\n",
       "      <td>32356</td>\n",
       "      <td>12919</td>\n",
       "      <td>1.69</td>\n",
       "      <td>0.68</td>\n",
       "    </tr>\n",
       "    <tr>\n",
       "      <th>15</th>\n",
       "      <td>Telengana</td>\n",
       "      <td>629054</td>\n",
       "      <td>11472</td>\n",
       "      <td>3710</td>\n",
       "      <td>1.82</td>\n",
       "      <td>0.59</td>\n",
       "    </tr>\n",
       "    <tr>\n",
       "      <th>19</th>\n",
       "      <td>Uttarakhand</td>\n",
       "      <td>340959</td>\n",
       "      <td>1506</td>\n",
       "      <td>7338</td>\n",
       "      <td>0.44</td>\n",
       "      <td>2.15</td>\n",
       "    </tr>\n",
       "    <tr>\n",
       "      <th>0</th>\n",
       "      <td>Maharashtra</td>\n",
       "      <td>6122893</td>\n",
       "      <td>117869</td>\n",
       "      <td>123857</td>\n",
       "      <td>1.93</td>\n",
       "      <td>2.02</td>\n",
       "    </tr>\n",
       "    <tr>\n",
       "      <th>8</th>\n",
       "      <td>Chhattisgarh</td>\n",
       "      <td>996689</td>\n",
       "      <td>5017</td>\n",
       "      <td>13464</td>\n",
       "      <td>0.50</td>\n",
       "      <td>1.35</td>\n",
       "    </tr>\n",
       "  </tbody>\n",
       "</table>\n",
       "</div>"
      ],
      "text/plain": [
       "         State/UTs  Total Cases  Active  Deaths  Active Ratio (%)  \\\n",
       "4   Andhra Pradesh      1911231   32356   12919              1.69   \n",
       "15       Telengana       629054   11472    3710              1.82   \n",
       "19     Uttarakhand       340959    1506    7338              0.44   \n",
       "0      Maharashtra      6122893  117869  123857              1.93   \n",
       "8     Chhattisgarh       996689    5017   13464              0.50   \n",
       "\n",
       "    Death Ratio (%)  \n",
       "4              0.68  \n",
       "15             0.59  \n",
       "19             2.15  \n",
       "0              2.02  \n",
       "8              1.35  "
      ]
     },
     "execution_count": 18,
     "metadata": {},
     "output_type": "execute_result"
    }
   ],
   "source": [
    "df.sample(5)"
   ]
  },
  {
   "cell_type": "markdown",
   "id": "58c4744f",
   "metadata": {},
   "source": [
    "#### Checking the data range"
   ]
  },
  {
   "cell_type": "code",
   "execution_count": 19,
   "id": "c199db65",
   "metadata": {},
   "outputs": [
    {
     "data": {
      "text/plain": [
       "(36, 6)"
      ]
     },
     "execution_count": 19,
     "metadata": {},
     "output_type": "execute_result"
    }
   ],
   "source": [
    "df.shape"
   ]
  },
  {
   "cell_type": "raw",
   "id": "5907fbb6",
   "metadata": {},
   "source": [
    "There is 36 rows and 6 columns."
   ]
  },
  {
   "cell_type": "markdown",
   "id": "3e24e6b0",
   "metadata": {},
   "source": [
    "#### Checking columns"
   ]
  },
  {
   "cell_type": "code",
   "execution_count": 20,
   "id": "7a0a9b4b",
   "metadata": {},
   "outputs": [
    {
     "data": {
      "text/plain": [
       "Index(['State/UTs', 'Total Cases', 'Active', 'Deaths', 'Active Ratio (%)',\n",
       "       'Death Ratio (%)'],\n",
       "      dtype='object')"
      ]
     },
     "execution_count": 20,
     "metadata": {},
     "output_type": "execute_result"
    }
   ],
   "source": [
    "df.columns"
   ]
  },
  {
   "cell_type": "markdown",
   "id": "c797cd21",
   "metadata": {},
   "source": [
    "#### Checking the info()"
   ]
  },
  {
   "cell_type": "code",
   "execution_count": 21,
   "id": "71fced5d",
   "metadata": {},
   "outputs": [
    {
     "name": "stdout",
     "output_type": "stream",
     "text": [
      "<class 'pandas.core.frame.DataFrame'>\n",
      "RangeIndex: 36 entries, 0 to 35\n",
      "Data columns (total 6 columns):\n",
      " #   Column            Non-Null Count  Dtype  \n",
      "---  ------            --------------  -----  \n",
      " 0   State/UTs         36 non-null     object \n",
      " 1   Total Cases       36 non-null     int64  \n",
      " 2   Active            36 non-null     int64  \n",
      " 3   Deaths            36 non-null     int64  \n",
      " 4   Active Ratio (%)  36 non-null     float64\n",
      " 5   Death Ratio (%)   36 non-null     float64\n",
      "dtypes: float64(2), int64(3), object(1)\n",
      "memory usage: 1.8+ KB\n"
     ]
    }
   ],
   "source": [
    "df.info()"
   ]
  },
  {
   "cell_type": "raw",
   "id": "308746db",
   "metadata": {},
   "source": [
    "There is no any Nan values\n",
    "We have with the type of object,int and float columns"
   ]
  },
  {
   "cell_type": "markdown",
   "id": "2cc03a30",
   "metadata": {},
   "source": [
    "#### Checking uniques"
   ]
  },
  {
   "cell_type": "code",
   "execution_count": 22,
   "id": "f5fce1f0",
   "metadata": {},
   "outputs": [],
   "source": [
    "AA=set(list(map(lambda x:x[0],df[\"State/UTs\"])))"
   ]
  },
  {
   "cell_type": "code",
   "execution_count": 23,
   "id": "51e919f2",
   "metadata": {},
   "outputs": [
    {
     "name": "stdout",
     "output_type": "stream",
     "text": [
      "['Kerala', 'Karnataka']\n",
      "['Bihar']\n",
      "['Ladakh', 'Lakshadweep']\n",
      "['Punjab', 'Puducherry']\n",
      "['West Bengal']\n",
      "['Chhattisgarh', 'Chandigarh']\n",
      "['Andhra Pradesh', 'Assam', 'Arunachal Pradesh', 'Andaman and Nicobar']\n",
      "['Jharkhand', 'Jammu and Kashmir']\n",
      "['Rajasthan']\n",
      "['Odisha']\n",
      "['Haryana', 'Himachal Pradesh']\n",
      "['Tamil Nadu', 'Telengana', 'Tripura']\n",
      "['Nagaland']\n",
      "['Maharashtra', 'Madhya Pradesh', 'Manipur', 'Meghalaya', 'Mizoram']\n",
      "['Sikkim']\n",
      "['Uttar Pradesh', 'Uttarakhand']\n",
      "['Gujarat', 'Goa']\n",
      "['Delhi', 'Dadra and Nagar Haveli and Daman and Diu']\n"
     ]
    }
   ],
   "source": [
    "for j in AA:\n",
    "    print([i for i in df[\"State/UTs\"] if i.startswith(j or j.lower())])"
   ]
  },
  {
   "cell_type": "raw",
   "id": "d1eaf41e",
   "metadata": {},
   "source": [
    "There There is no any duplicate values."
   ]
  },
  {
   "cell_type": "markdown",
   "id": "412c67b2",
   "metadata": {},
   "source": [
    "### Descriptive stat"
   ]
  },
  {
   "cell_type": "code",
   "execution_count": 24,
   "id": "c9a8cfa0",
   "metadata": {},
   "outputs": [
    {
     "data": {
      "text/html": [
       "<div>\n",
       "<style scoped>\n",
       "    .dataframe tbody tr th:only-of-type {\n",
       "        vertical-align: middle;\n",
       "    }\n",
       "\n",
       "    .dataframe tbody tr th {\n",
       "        vertical-align: top;\n",
       "    }\n",
       "\n",
       "    .dataframe thead th {\n",
       "        text-align: right;\n",
       "    }\n",
       "</style>\n",
       "<table border=\"1\" class=\"dataframe\">\n",
       "  <thead>\n",
       "    <tr style=\"text-align: right;\">\n",
       "      <th></th>\n",
       "      <th>Total Cases</th>\n",
       "      <th>Active</th>\n",
       "      <th>Deaths</th>\n",
       "      <th>Active Ratio (%)</th>\n",
       "      <th>Death Ratio (%)</th>\n",
       "    </tr>\n",
       "  </thead>\n",
       "  <tbody>\n",
       "    <tr>\n",
       "      <th>count</th>\n",
       "      <td>3.600000e+01</td>\n",
       "      <td>36.000000</td>\n",
       "      <td>36.000000</td>\n",
       "      <td>36.000000</td>\n",
       "      <td>36.000000</td>\n",
       "    </tr>\n",
       "    <tr>\n",
       "      <th>mean</th>\n",
       "      <td>8.530432e+05</td>\n",
       "      <td>13657.111111</td>\n",
       "      <td>11250.777778</td>\n",
       "      <td>2.586667</td>\n",
       "      <td>1.253889</td>\n",
       "    </tr>\n",
       "    <tr>\n",
       "      <th>std</th>\n",
       "      <td>1.223486e+06</td>\n",
       "      <td>27065.893597</td>\n",
       "      <td>21412.276037</td>\n",
       "      <td>3.728932</td>\n",
       "      <td>0.565298</td>\n",
       "    </tr>\n",
       "    <tr>\n",
       "      <th>min</th>\n",
       "      <td>7.491000e+03</td>\n",
       "      <td>14.000000</td>\n",
       "      <td>4.000000</td>\n",
       "      <td>0.060000</td>\n",
       "      <td>0.040000</td>\n",
       "    </tr>\n",
       "    <tr>\n",
       "      <th>25%</th>\n",
       "      <td>5.951300e+04</td>\n",
       "      <td>1033.250000</td>\n",
       "      <td>782.500000</td>\n",
       "      <td>0.227500</td>\n",
       "      <td>0.930000</td>\n",
       "    </tr>\n",
       "    <tr>\n",
       "      <th>50%</th>\n",
       "      <td>4.353345e+05</td>\n",
       "      <td>1966.500000</td>\n",
       "      <td>4550.500000</td>\n",
       "      <td>1.130000</td>\n",
       "      <td>1.315000</td>\n",
       "    </tr>\n",
       "    <tr>\n",
       "      <th>75%</th>\n",
       "      <td>9.638375e+05</td>\n",
       "      <td>12767.750000</td>\n",
       "      <td>13055.250000</td>\n",
       "      <td>2.925000</td>\n",
       "      <td>1.657500</td>\n",
       "    </tr>\n",
       "    <tr>\n",
       "      <th>max</th>\n",
       "      <td>6.122893e+06</td>\n",
       "      <td>117869.000000</td>\n",
       "      <td>123857.000000</td>\n",
       "      <td>17.440000</td>\n",
       "      <td>2.700000</td>\n",
       "    </tr>\n",
       "  </tbody>\n",
       "</table>\n",
       "</div>"
      ],
      "text/plain": [
       "        Total Cases         Active         Deaths  Active Ratio (%)  \\\n",
       "count  3.600000e+01      36.000000      36.000000         36.000000   \n",
       "mean   8.530432e+05   13657.111111   11250.777778          2.586667   \n",
       "std    1.223486e+06   27065.893597   21412.276037          3.728932   \n",
       "min    7.491000e+03      14.000000       4.000000          0.060000   \n",
       "25%    5.951300e+04    1033.250000     782.500000          0.227500   \n",
       "50%    4.353345e+05    1966.500000    4550.500000          1.130000   \n",
       "75%    9.638375e+05   12767.750000   13055.250000          2.925000   \n",
       "max    6.122893e+06  117869.000000  123857.000000         17.440000   \n",
       "\n",
       "       Death Ratio (%)  \n",
       "count        36.000000  \n",
       "mean          1.253889  \n",
       "std           0.565298  \n",
       "min           0.040000  \n",
       "25%           0.930000  \n",
       "50%           1.315000  \n",
       "75%           1.657500  \n",
       "max           2.700000  "
      ]
     },
     "execution_count": 24,
     "metadata": {},
     "output_type": "execute_result"
    }
   ],
   "source": [
    "df.describe()"
   ]
  },
  {
   "cell_type": "raw",
   "id": "2039e4cd",
   "metadata": {},
   "source": [
    "In above data some of the state is in good condition because their Active Ration % is 0.060\n",
    "In other state the condition of people is too worse as according to their Active Ratio case is 17.440"
   ]
  },
  {
   "cell_type": "markdown",
   "id": "fea6da02",
   "metadata": {},
   "source": [
    "### Minimum Total cases"
   ]
  },
  {
   "cell_type": "code",
   "execution_count": 25,
   "id": "6965dca7",
   "metadata": {},
   "outputs": [
    {
     "data": {
      "text/html": [
       "<div>\n",
       "<style scoped>\n",
       "    .dataframe tbody tr th:only-of-type {\n",
       "        vertical-align: middle;\n",
       "    }\n",
       "\n",
       "    .dataframe tbody tr th {\n",
       "        vertical-align: top;\n",
       "    }\n",
       "\n",
       "    .dataframe thead th {\n",
       "        text-align: right;\n",
       "    }\n",
       "</style>\n",
       "<table border=\"1\" class=\"dataframe\">\n",
       "  <thead>\n",
       "    <tr style=\"text-align: right;\">\n",
       "      <th></th>\n",
       "      <th>State/UTs</th>\n",
       "      <th>Total Cases</th>\n",
       "      <th>Active</th>\n",
       "      <th>Deaths</th>\n",
       "      <th>Active Ratio (%)</th>\n",
       "      <th>Death Ratio (%)</th>\n",
       "    </tr>\n",
       "  </thead>\n",
       "  <tbody>\n",
       "    <tr>\n",
       "      <th>35</th>\n",
       "      <td>Andaman and Nicobar</td>\n",
       "      <td>7491</td>\n",
       "      <td>14</td>\n",
       "      <td>128</td>\n",
       "      <td>0.19</td>\n",
       "      <td>1.71</td>\n",
       "    </tr>\n",
       "  </tbody>\n",
       "</table>\n",
       "</div>"
      ],
      "text/plain": [
       "              State/UTs  Total Cases  Active  Deaths  Active Ratio (%)  \\\n",
       "35  Andaman and Nicobar         7491      14     128              0.19   \n",
       "\n",
       "    Death Ratio (%)  \n",
       "35             1.71  "
      ]
     },
     "execution_count": 25,
     "metadata": {},
     "output_type": "execute_result"
    }
   ],
   "source": [
    "df[df[\"Total Cases\"]==df[\"Total Cases\"].min()]"
   ]
  },
  {
   "cell_type": "markdown",
   "id": "861eb32a",
   "metadata": {},
   "source": [
    "### Maximum Toatal cases"
   ]
  },
  {
   "cell_type": "code",
   "execution_count": 26,
   "id": "5dd1f819",
   "metadata": {},
   "outputs": [
    {
     "data": {
      "text/html": [
       "<div>\n",
       "<style scoped>\n",
       "    .dataframe tbody tr th:only-of-type {\n",
       "        vertical-align: middle;\n",
       "    }\n",
       "\n",
       "    .dataframe tbody tr th {\n",
       "        vertical-align: top;\n",
       "    }\n",
       "\n",
       "    .dataframe thead th {\n",
       "        text-align: right;\n",
       "    }\n",
       "</style>\n",
       "<table border=\"1\" class=\"dataframe\">\n",
       "  <thead>\n",
       "    <tr style=\"text-align: right;\">\n",
       "      <th></th>\n",
       "      <th>State/UTs</th>\n",
       "      <th>Total Cases</th>\n",
       "      <th>Active</th>\n",
       "      <th>Deaths</th>\n",
       "      <th>Active Ratio (%)</th>\n",
       "      <th>Death Ratio (%)</th>\n",
       "    </tr>\n",
       "  </thead>\n",
       "  <tbody>\n",
       "    <tr>\n",
       "      <th>0</th>\n",
       "      <td>Maharashtra</td>\n",
       "      <td>6122893</td>\n",
       "      <td>117869</td>\n",
       "      <td>123857</td>\n",
       "      <td>1.93</td>\n",
       "      <td>2.02</td>\n",
       "    </tr>\n",
       "  </tbody>\n",
       "</table>\n",
       "</div>"
      ],
      "text/plain": [
       "     State/UTs  Total Cases  Active  Deaths  Active Ratio (%)  Death Ratio (%)\n",
       "0  Maharashtra      6122893  117869  123857              1.93             2.02"
      ]
     },
     "execution_count": 26,
     "metadata": {},
     "output_type": "execute_result"
    }
   ],
   "source": [
    "df[df[\"Total Cases\"]==df[\"Total Cases\"].max()]"
   ]
  },
  {
   "cell_type": "markdown",
   "id": "ae2646c6",
   "metadata": {},
   "source": [
    "### Overall status of total cases"
   ]
  },
  {
   "cell_type": "code",
   "execution_count": 27,
   "id": "82f83327",
   "metadata": {},
   "outputs": [
    {
     "data": {
      "image/png": "[encoded data removed]",
      "text/plain": [
       "<Figure size 864x360 with 1 Axes>"
      ]
     },
     "metadata": {},
     "output_type": "display_data"
    }
   ],
   "source": [
    "plt.figure(figsize=(12,5))\n",
    "sns.barplot(x=\"State/UTs\",y=\"Total Cases\",data=df)\n",
    "plt.xticks(rotation=90,fontsize=13);\n",
    "plt.yticks(fontsize=13)\n",
    "plt.ylabel(\"Total_cases\",fontsize=13)\n",
    "plt.xlabel(\"States\",fontsize=13)\n",
    "plt.title(\"Overall status\",fontsize=13);"
   ]
  },
  {
   "cell_type": "markdown",
   "id": "adb80c34",
   "metadata": {},
   "source": [
    "### Top 5 deadly states"
   ]
  },
  {
   "cell_type": "code",
   "execution_count": 28,
   "id": "e66998dd",
   "metadata": {},
   "outputs": [
    {
     "data": {
      "text/html": [
       "<div>\n",
       "<style scoped>\n",
       "    .dataframe tbody tr th:only-of-type {\n",
       "        vertical-align: middle;\n",
       "    }\n",
       "\n",
       "    .dataframe tbody tr th {\n",
       "        vertical-align: top;\n",
       "    }\n",
       "\n",
       "    .dataframe thead th {\n",
       "        text-align: right;\n",
       "    }\n",
       "</style>\n",
       "<table border=\"1\" class=\"dataframe\">\n",
       "  <thead>\n",
       "    <tr style=\"text-align: right;\">\n",
       "      <th></th>\n",
       "      <th>State/UTs</th>\n",
       "      <th>Total Cases</th>\n",
       "      <th>Active</th>\n",
       "      <th>Deaths</th>\n",
       "      <th>Active Ratio (%)</th>\n",
       "      <th>Death Ratio (%)</th>\n",
       "    </tr>\n",
       "  </thead>\n",
       "  <tbody>\n",
       "    <tr>\n",
       "      <th>0</th>\n",
       "      <td>Maharashtra</td>\n",
       "      <td>6122893</td>\n",
       "      <td>117869</td>\n",
       "      <td>123857</td>\n",
       "      <td>1.93</td>\n",
       "      <td>2.02</td>\n",
       "    </tr>\n",
       "    <tr>\n",
       "      <th>1</th>\n",
       "      <td>Kerala</td>\n",
       "      <td>3011694</td>\n",
       "      <td>108400</td>\n",
       "      <td>14108</td>\n",
       "      <td>3.60</td>\n",
       "      <td>0.47</td>\n",
       "    </tr>\n",
       "    <tr>\n",
       "      <th>2</th>\n",
       "      <td>Karnataka</td>\n",
       "      <td>2862338</td>\n",
       "      <td>39626</td>\n",
       "      <td>35601</td>\n",
       "      <td>1.38</td>\n",
       "      <td>1.24</td>\n",
       "    </tr>\n",
       "    <tr>\n",
       "      <th>3</th>\n",
       "      <td>Tamil Nadu</td>\n",
       "      <td>2506848</td>\n",
       "      <td>34076</td>\n",
       "      <td>33196</td>\n",
       "      <td>1.36</td>\n",
       "      <td>1.32</td>\n",
       "    </tr>\n",
       "    <tr>\n",
       "      <th>4</th>\n",
       "      <td>Andhra Pradesh</td>\n",
       "      <td>1911231</td>\n",
       "      <td>32356</td>\n",
       "      <td>12919</td>\n",
       "      <td>1.69</td>\n",
       "      <td>0.68</td>\n",
       "    </tr>\n",
       "  </tbody>\n",
       "</table>\n",
       "</div>"
      ],
      "text/plain": [
       "        State/UTs  Total Cases  Active  Deaths  Active Ratio (%)  \\\n",
       "0     Maharashtra      6122893  117869  123857              1.93   \n",
       "1          Kerala      3011694  108400   14108              3.60   \n",
       "2       Karnataka      2862338   39626   35601              1.38   \n",
       "3      Tamil Nadu      2506848   34076   33196              1.36   \n",
       "4  Andhra Pradesh      1911231   32356   12919              1.69   \n",
       "\n",
       "   Death Ratio (%)  \n",
       "0             2.02  \n",
       "1             0.47  \n",
       "2             1.24  \n",
       "3             1.32  \n",
       "4             0.68  "
      ]
     },
     "execution_count": 28,
     "metadata": {},
     "output_type": "execute_result"
    }
   ],
   "source": [
    "df1=df.sort_values(by=\"Total Cases\",ascending=False).head()\n",
    "df1"
   ]
  },
  {
   "cell_type": "raw",
   "id": "42c8c169",
   "metadata": {},
   "source": [
    "These all states battling with the worse condition of epedimic."
   ]
  },
  {
   "cell_type": "markdown",
   "id": "d51ef141",
   "metadata": {},
   "source": [
    "### States condition in active and death case"
   ]
  },
  {
   "cell_type": "code",
   "execution_count": 29,
   "id": "fbd08509",
   "metadata": {},
   "outputs": [
    {
     "data": {
      "image/png": "[encoded data removed]",
      "text/plain": [
       "<Figure size 720x288 with 1 Axes>"
      ]
     },
     "metadata": {},
     "output_type": "display_data"
    }
   ],
   "source": [
    "plt.figure(figsize=(10,4))\n",
    "sns.lineplot(x=\"State/UTs\",y=\"Active Ratio (%)\",data=df,marker=\"o\",label=\"Active\")\n",
    "sns.lineplot(x=\"State/UTs\",y=\"Death Ratio (%)\",data=df,marker=\"o\",label=\"Death\")\n",
    "plt.xticks(rotation=90);\n"
   ]
  },
  {
   "cell_type": "raw",
   "id": "0ff8b071",
   "metadata": {},
   "source": [
    "In some state the number of death case is more than active case\n",
    "like delhi,Chhattisgarh,Gujrat,Madhya Pradesh,Haryana and Bihar etcetra.\n",
    "##\n",
    "On other hand some state's active case is more than death case.\n",
    "In Kerala,AndhraPradesh,Odisha,Assam,Manipur,Tripura,Meghalaya and Arunachal Pradesh etc."
   ]
  },
  {
   "cell_type": "markdown",
   "id": "1670443e",
   "metadata": {},
   "source": [
    "### Featuring engineering"
   ]
  },
  {
   "cell_type": "raw",
   "id": "38a77d09",
   "metadata": {},
   "source": [
    "For futher analysis we have to Categorise the data into four part.\n",
    "Good\n",
    "Normal\n",
    "Bad\n",
    "Worse"
   ]
  },
  {
   "cell_type": "markdown",
   "id": "cb1b4440",
   "metadata": {},
   "source": [
    "#### Now adding new column of Total_case in percent"
   ]
  },
  {
   "cell_type": "code",
   "execution_count": 31,
   "id": "f1faab6a",
   "metadata": {},
   "outputs": [],
   "source": [
    "df[\"Total_case_in_%\"]=df[\"Total Cases\"].apply(lambda x:(x*100)/df[\"Total Cases\"].sum())"
   ]
  },
  {
   "cell_type": "code",
   "execution_count": 32,
   "id": "8d9b572f",
   "metadata": {},
   "outputs": [
    {
     "data": {
      "text/html": [
       "<div>\n",
       "<style scoped>\n",
       "    .dataframe tbody tr th:only-of-type {\n",
       "        vertical-align: middle;\n",
       "    }\n",
       "\n",
       "    .dataframe tbody tr th {\n",
       "        vertical-align: top;\n",
       "    }\n",
       "\n",
       "    .dataframe thead th {\n",
       "        text-align: right;\n",
       "    }\n",
       "</style>\n",
       "<table border=\"1\" class=\"dataframe\">\n",
       "  <thead>\n",
       "    <tr style=\"text-align: right;\">\n",
       "      <th></th>\n",
       "      <th>State/UTs</th>\n",
       "      <th>Total Cases</th>\n",
       "      <th>Active</th>\n",
       "      <th>Deaths</th>\n",
       "      <th>Active Ratio (%)</th>\n",
       "      <th>Death Ratio (%)</th>\n",
       "      <th>Total_case_in_%</th>\n",
       "    </tr>\n",
       "  </thead>\n",
       "  <tbody>\n",
       "    <tr>\n",
       "      <th>0</th>\n",
       "      <td>Maharashtra</td>\n",
       "      <td>6122893</td>\n",
       "      <td>117869</td>\n",
       "      <td>123857</td>\n",
       "      <td>1.93</td>\n",
       "      <td>2.02</td>\n",
       "      <td>19.938070</td>\n",
       "    </tr>\n",
       "    <tr>\n",
       "      <th>1</th>\n",
       "      <td>Kerala</td>\n",
       "      <td>3011694</td>\n",
       "      <td>108400</td>\n",
       "      <td>14108</td>\n",
       "      <td>3.60</td>\n",
       "      <td>0.47</td>\n",
       "      <td>9.807025</td>\n",
       "    </tr>\n",
       "    <tr>\n",
       "      <th>2</th>\n",
       "      <td>Karnataka</td>\n",
       "      <td>2862338</td>\n",
       "      <td>39626</td>\n",
       "      <td>35601</td>\n",
       "      <td>1.38</td>\n",
       "      <td>1.24</td>\n",
       "      <td>9.320675</td>\n",
       "    </tr>\n",
       "    <tr>\n",
       "      <th>3</th>\n",
       "      <td>Tamil Nadu</td>\n",
       "      <td>2506848</td>\n",
       "      <td>34076</td>\n",
       "      <td>33196</td>\n",
       "      <td>1.36</td>\n",
       "      <td>1.32</td>\n",
       "      <td>8.163087</td>\n",
       "    </tr>\n",
       "    <tr>\n",
       "      <th>4</th>\n",
       "      <td>Andhra Pradesh</td>\n",
       "      <td>1911231</td>\n",
       "      <td>32356</td>\n",
       "      <td>12919</td>\n",
       "      <td>1.69</td>\n",
       "      <td>0.68</td>\n",
       "      <td>6.223571</td>\n",
       "    </tr>\n",
       "  </tbody>\n",
       "</table>\n",
       "</div>"
      ],
      "text/plain": [
       "        State/UTs  Total Cases  Active  Deaths  Active Ratio (%)  \\\n",
       "0     Maharashtra      6122893  117869  123857              1.93   \n",
       "1          Kerala      3011694  108400   14108              3.60   \n",
       "2       Karnataka      2862338   39626   35601              1.38   \n",
       "3      Tamil Nadu      2506848   34076   33196              1.36   \n",
       "4  Andhra Pradesh      1911231   32356   12919              1.69   \n",
       "\n",
       "   Death Ratio (%)  Total_case_in_%  \n",
       "0             2.02        19.938070  \n",
       "1             0.47         9.807025  \n",
       "2             1.24         9.320675  \n",
       "3             1.32         8.163087  \n",
       "4             0.68         6.223571  "
      ]
     },
     "execution_count": 32,
     "metadata": {},
     "output_type": "execute_result"
    }
   ],
   "source": [
    "df.head()"
   ]
  },
  {
   "cell_type": "markdown",
   "id": "44dcdad0",
   "metadata": {},
   "source": [
    "#### New columns with name condition"
   ]
  },
  {
   "cell_type": "code",
   "execution_count": 33,
   "id": "1627b7bf",
   "metadata": {},
   "outputs": [],
   "source": [
    "df[\"Condition\"]=pd.cut(df[\"Total_case_in_%\"],bins=[0,1,3,5,df[\"Total_case_in_%\"].max()],labels=[\"Good_state\",\"Normal_state\",\"Bad_state\",\"Worse_state\"])"
   ]
  },
  {
   "cell_type": "code",
   "execution_count": 34,
   "id": "bc7f6d79",
   "metadata": {},
   "outputs": [
    {
     "data": {
      "text/html": [
       "<div>\n",
       "<style scoped>\n",
       "    .dataframe tbody tr th:only-of-type {\n",
       "        vertical-align: middle;\n",
       "    }\n",
       "\n",
       "    .dataframe tbody tr th {\n",
       "        vertical-align: top;\n",
       "    }\n",
       "\n",
       "    .dataframe thead th {\n",
       "        text-align: right;\n",
       "    }\n",
       "</style>\n",
       "<table border=\"1\" class=\"dataframe\">\n",
       "  <thead>\n",
       "    <tr style=\"text-align: right;\">\n",
       "      <th></th>\n",
       "      <th>State/UTs</th>\n",
       "      <th>Total Cases</th>\n",
       "      <th>Active</th>\n",
       "      <th>Deaths</th>\n",
       "      <th>Active Ratio (%)</th>\n",
       "      <th>Death Ratio (%)</th>\n",
       "      <th>Total_case_in_%</th>\n",
       "      <th>Condition</th>\n",
       "    </tr>\n",
       "  </thead>\n",
       "  <tbody>\n",
       "    <tr>\n",
       "      <th>0</th>\n",
       "      <td>Maharashtra</td>\n",
       "      <td>6122893</td>\n",
       "      <td>117869</td>\n",
       "      <td>123857</td>\n",
       "      <td>1.93</td>\n",
       "      <td>2.02</td>\n",
       "      <td>19.938070</td>\n",
       "      <td>Worse_state</td>\n",
       "    </tr>\n",
       "    <tr>\n",
       "      <th>1</th>\n",
       "      <td>Kerala</td>\n",
       "      <td>3011694</td>\n",
       "      <td>108400</td>\n",
       "      <td>14108</td>\n",
       "      <td>3.60</td>\n",
       "      <td>0.47</td>\n",
       "      <td>9.807025</td>\n",
       "      <td>Worse_state</td>\n",
       "    </tr>\n",
       "    <tr>\n",
       "      <th>2</th>\n",
       "      <td>Karnataka</td>\n",
       "      <td>2862338</td>\n",
       "      <td>39626</td>\n",
       "      <td>35601</td>\n",
       "      <td>1.38</td>\n",
       "      <td>1.24</td>\n",
       "      <td>9.320675</td>\n",
       "      <td>Worse_state</td>\n",
       "    </tr>\n",
       "    <tr>\n",
       "      <th>3</th>\n",
       "      <td>Tamil Nadu</td>\n",
       "      <td>2506848</td>\n",
       "      <td>34076</td>\n",
       "      <td>33196</td>\n",
       "      <td>1.36</td>\n",
       "      <td>1.32</td>\n",
       "      <td>8.163087</td>\n",
       "      <td>Worse_state</td>\n",
       "    </tr>\n",
       "    <tr>\n",
       "      <th>4</th>\n",
       "      <td>Andhra Pradesh</td>\n",
       "      <td>1911231</td>\n",
       "      <td>32356</td>\n",
       "      <td>12919</td>\n",
       "      <td>1.69</td>\n",
       "      <td>0.68</td>\n",
       "      <td>6.223571</td>\n",
       "      <td>Worse_state</td>\n",
       "    </tr>\n",
       "  </tbody>\n",
       "</table>\n",
       "</div>"
      ],
      "text/plain": [
       "        State/UTs  Total Cases  Active  Deaths  Active Ratio (%)  \\\n",
       "0     Maharashtra      6122893  117869  123857              1.93   \n",
       "1          Kerala      3011694  108400   14108              3.60   \n",
       "2       Karnataka      2862338   39626   35601              1.38   \n",
       "3      Tamil Nadu      2506848   34076   33196              1.36   \n",
       "4  Andhra Pradesh      1911231   32356   12919              1.69   \n",
       "\n",
       "   Death Ratio (%)  Total_case_in_%    Condition  \n",
       "0             2.02        19.938070  Worse_state  \n",
       "1             0.47         9.807025  Worse_state  \n",
       "2             1.24         9.320675  Worse_state  \n",
       "3             1.32         8.163087  Worse_state  \n",
       "4             0.68         6.223571  Worse_state  "
      ]
     },
     "execution_count": 34,
     "metadata": {},
     "output_type": "execute_result"
    }
   ],
   "source": [
    "df.head()"
   ]
  },
  {
   "cell_type": "markdown",
   "id": "d888c8e3",
   "metadata": {},
   "source": [
    "### Evaluate the situation with the Condition column"
   ]
  },
  {
   "cell_type": "code",
   "execution_count": 35,
   "id": "2e4ddd7c",
   "metadata": {},
   "outputs": [],
   "source": [
    "value=df[\"Condition\"].value_counts().values"
   ]
  },
  {
   "cell_type": "code",
   "execution_count": 36,
   "id": "5da2a87f",
   "metadata": {},
   "outputs": [],
   "source": [
    "lab=df[\"Condition\"].value_counts().index"
   ]
  },
  {
   "cell_type": "code",
   "execution_count": 37,
   "id": "0e0776d6",
   "metadata": {},
   "outputs": [
    {
     "data": {
      "text/plain": [
       "([<matplotlib.patches.Wedge at 0x516a16ed60>],\n",
       " [Text(-0.9900000000000001, 1.2124003311558797e-16, '')])"
      ]
     },
     "execution_count": 37,
     "metadata": {},
     "output_type": "execute_result"
    },
    {
     "data": {
      "image/png": "[encoded data removed]",
      "text/plain": [
       "<Figure size 432x288 with 1 Axes>"
      ]
     },
     "metadata": {},
     "output_type": "display_data"
    }
   ],
   "source": [
    "plt.pie(value,labels=lab,radius=1.5,autopct=\"%1.f%%\",labeldistance=1.2,pctdistance=0.7,textprops={\"fontsize\":15});\n",
    "plt.pie([4],radius=0.9)"
   ]
  },
  {
   "cell_type": "code",
   "execution_count": null,
   "id": "29ad0494",
   "metadata": {},
   "outputs": [],
   "source": []
  },
  {
   "cell_type": "markdown",
   "id": "2ab6bef8",
   "metadata": {},
   "source": [
    "### Insights"
   ]
  },
  {
   "cell_type": "raw",
   "id": "2591c87b",
   "metadata": {},
   "source": [
    "Maharashtra has the highest number of total case but situation of Active and Death ratio is in control.\n",
    "Kerala is the top 2 in total case and this state well battling the situation because Death ratio is less than 0.5.\n",
    "In Andaman and Nicobar the total case is lowest than all state.\n",
    "Minimum Death Ratio is in Dadra and Nagar Haveli and Daman and Diu with 0.04%\n",
    "Badly affected state\n",
    "Maharashtra,Kerala,Karnataka,Tamil Nadu,Andhra Pradesh and Uttar Pradesh in Total case\n",
    "Delhi,Punjab,Uttarakhand,Himachal Pradesh,Goa,Manipur,Meghalaya,Nagaland and Andaman and Nicobar in Deathratio which greater1.5\n",
    "Less affected state\n",
    "Andaman and Nicobar,Lakshadweep,Dadra and Nagar Haveli and Daman and Diu,Ladakh and Sikkim in Total case\n",
    "Kerala,Andhra Pradesh,Rajasthan,Odisha,Telengana,Assam,Arunachal Pradesh and so on states in Death ration less than 1% \n"
   ]
  },
  {
   "cell_type": "markdown",
   "id": "9a06bc14",
   "metadata": {},
   "source": [
    "### Solution"
   ]
  },
  {
   "cell_type": "code",
   "execution_count": null,
   "id": "f33ec7a4",
   "metadata": {},
   "outputs": [],
   "source": [
    "According to the case states should take the tough decisions\n",
    "Announcement the lockdown\n",
    "People should not be allowed to move around with any reason.\n",
    "Promote the wearing face mask.\n",
    "All time carry sanitizer.\n",
    "While traveling maintain the social distance.\n",
    "Take care of hygiene.\n",
    "Spread the awarenes to taking the dose of vaccine and along with take away the misconceptions about the vaccinetion."
   ]
  }
 ],
 "metadata": {
  "kernelspec": {
   "display_name": "Python 3 (ipykernel)",
   "language": "python",
   "name": "python3"
  },
  "language_info": {
   "codemirror_mode": {
    "name": "ipython",
    "version": 3
   },
   "file_extension": ".py",
   "mimetype": "text/x-python",
   "name": "python",
   "nbconvert_exporter": "python",
   "pygments_lexer": "ipython3",
   "version": "3.9.12"
  }
 },
 "nbformat": 4,
 "nbformat_minor": 5
}
